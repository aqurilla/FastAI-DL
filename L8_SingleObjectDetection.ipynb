{
  "nbformat": 4,
  "nbformat_minor": 0,
  "metadata": {
    "colab": {
      "name": "FastAI_SingleObjectDetection.ipynb",
      "version": "0.3.2",
      "provenance": [],
      "collapsed_sections": []
    },
    "kernelspec": {
      "name": "python3",
      "display_name": "Python 3"
    },
    "accelerator": "GPU"
  },
  "cells": [
    {
      "metadata": {
        "id": "Ocs-0gEaGqEb",
        "colab_type": "code",
        "colab": {}
      },
      "cell_type": "code",
      "source": [
        "# Import dependencies\n"
      ],
      "execution_count": 0,
      "outputs": []
    },
    {
      "metadata": {
        "id": "6ZChRNSAFt7b",
        "colab_type": "code",
        "colab": {
          "base_uri": "https://localhost:8080/",
          "height": 54
        },
        "outputId": "3b2fdff2-d1e9-4f96-b37d-ddd96b5e3229"
      },
      "cell_type": "code",
      "source": [
        "# Install torch, torchvision\n",
        "# http://pytorch.org/\n",
        "from os.path import exists\n",
        "from wheel.pep425tags import get_abbr_impl, get_impl_ver, get_abi_tag\n",
        "platform = '{}{}-{}'.format(get_abbr_impl(), get_impl_ver(), get_abi_tag())\n",
        "cuda_output = !ldconfig -p|grep cudart.so|sed -e 's/.*\\.\\([0-9]*\\)\\.\\([0-9]*\\)$/cu\\1\\2/'\n",
        "accelerator = cuda_output[0] if exists('/dev/nvidia0') else 'cpu'\n",
        "\n",
        "!pip install -q http://download.pytorch.org/whl/{accelerator}/torch-0.4.1-{platform}-linux_x86_64.whl torchvision"
      ],
      "execution_count": 1,
      "outputs": [
        {
          "output_type": "stream",
          "text": [
            "tcmalloc: large alloc 1073750016 bytes == 0x57942000 @  0x7fe83c95e2a4 0x594e17 0x626104 0x51190a 0x4f5277 0x510c78 0x5119bd 0x4f5277 0x4f3338 0x510fb0 0x5119bd 0x4f5277 0x4f3338 0x510fb0 0x5119bd 0x4f5277 0x4f3338 0x510fb0 0x5119bd 0x4f6070 0x510c78 0x5119bd 0x4f5277 0x4f3338 0x510fb0 0x5119bd 0x4f6070 0x4f3338 0x510fb0 0x5119bd 0x4f6070\n"
          ],
          "name": "stdout"
        }
      ]
    },
    {
      "metadata": {
        "id": "1TBr2UL9GdFp",
        "colab_type": "code",
        "colab": {
          "base_uri": "https://localhost:8080/",
          "height": 255
        },
        "outputId": "5f635aea-4e93-47e0-eda4-698d6a8cf33d"
      },
      "cell_type": "code",
      "source": [
        "! curl -OL http://pjreddie.com/media/files/VOCtrainval_06-Nov-2007.tar\n",
        "! curl -OL https://storage.googleapis.com/coco-dataset/external/PASCAL_VOC.zip\n",
        "! tar -xf VOCtrainval_06-Nov-2007.tar\n",
        "! unzip PASCAL_VOC.zip\n",
        "! mv PASCAL_VOC/*.json .\n",
        "! rmdir PASCAL_VOC"
      ],
      "execution_count": 2,
      "outputs": [
        {
          "output_type": "stream",
          "text": [
            "  % Total    % Received % Xferd  Average Speed   Time    Time     Time  Current\n",
            "                                 Dload  Upload   Total   Spent    Left  Speed\n",
            "100   184  100   184    0     0    243      0 --:--:-- --:--:-- --:--:--   243\n",
            "100  438M  100  438M    0     0  21.0M      0  0:00:20  0:00:20 --:--:-- 23.4M\n",
            "  % Total    % Received % Xferd  Average Speed   Time    Time     Time  Current\n",
            "                                 Dload  Upload   Total   Spent    Left  Speed\n",
            "100 1951k  100 1951k    0     0  3833k      0 --:--:-- --:--:-- --:--:-- 3833k\n",
            "Archive:  PASCAL_VOC.zip\n",
            "   creating: PASCAL_VOC/\n",
            "  inflating: PASCAL_VOC/pascal_test2007.json  \n",
            "  inflating: PASCAL_VOC/pascal_train2007.json  \n",
            "  inflating: PASCAL_VOC/pascal_train2012.json  \n",
            "  inflating: PASCAL_VOC/pascal_val2007.json  \n",
            "  inflating: PASCAL_VOC/pascal_val2012.json  \n"
          ],
          "name": "stdout"
        }
      ]
    },
    {
      "metadata": {
        "id": "9UnXbJrpBK8a",
        "colab_type": "code",
        "colab": {}
      },
      "cell_type": "code",
      "source": [
        "import os"
      ],
      "execution_count": 0,
      "outputs": []
    },
    {
      "metadata": {
        "id": "TaPVkPymB5_j",
        "colab_type": "code",
        "colab": {
          "base_uri": "https://localhost:8080/",
          "height": 193
        },
        "outputId": "4128a41c-7a67-4ffb-bd14-6769bf44404d"
      },
      "cell_type": "code",
      "source": [
        "[x[0] for x in os.walk('VOCdevkit')]"
      ],
      "execution_count": 32,
      "outputs": [
        {
          "output_type": "execute_result",
          "data": {
            "text/plain": [
              "['VOCdevkit',\n",
              " 'VOCdevkit/VOC2007',\n",
              " 'VOCdevkit/VOC2007/ImageSets',\n",
              " 'VOCdevkit/VOC2007/ImageSets/Segmentation',\n",
              " 'VOCdevkit/VOC2007/ImageSets/Layout',\n",
              " 'VOCdevkit/VOC2007/ImageSets/Main',\n",
              " 'VOCdevkit/VOC2007/SegmentationObject',\n",
              " 'VOCdevkit/VOC2007/JPEGImages',\n",
              " 'VOCdevkit/VOC2007/Annotations',\n",
              " 'VOCdevkit/VOC2007/SegmentationClass']"
            ]
          },
          "metadata": {
            "tags": []
          },
          "execution_count": 32
        }
      ]
    },
    {
      "metadata": {
        "id": "shCTnMCcCCby",
        "colab_type": "code",
        "colab": {}
      },
      "cell_type": "code",
      "source": [
        ""
      ],
      "execution_count": 0,
      "outputs": []
    }
  ]
}